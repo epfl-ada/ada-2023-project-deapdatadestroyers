{
 "cells": [
  {
   "cell_type": "markdown",
   "id": "f2c9c6f7-8817-4f97-8bff-cc6f99f0219e",
   "metadata": {},
   "source": [
    "## Import libraries and python files"
   ]
  },
  {
   "cell_type": "code",
   "execution_count": 1,
   "id": "74b9eb89-c20a-48e6-9e20-941c6f582218",
   "metadata": {
    "tags": []
   },
   "outputs": [],
   "source": [
    "#import useful libraries \n",
    "import pandas as pd\n",
    "import json\n",
    "import sys\n",
    "import requests\n",
    "import numpy as np\n",
    "from sklearn.linear_model import LinearRegression\n",
    "import statsmodels.api as sm \n",
    "%matplotlib inline\n",
    "import matplotlib.pyplot as plt\n",
    "\n",
    "from data_loader import *\n",
    "%load_ext autoreload\n",
    "%autoreload 2\n",
    "\n",
    "\n",
    "##link to the datasets\n",
    "##https://www.cs.cmu.edu/~ark/personas/\n",
    "##https://www.kaggle.com/datasets/rounakbanik/the-movies-dataset?resource=download&select=movies_metadata.csv\n",
    "##https://www.kaggle.com/datasets/ashirwadsangwan/imdb-dataset\n",
    "##https://www.kaggle.com/datasets/unanimad/the-oscar-award/data"
   ]
  },
  {
   "cell_type": "markdown",
   "id": "f542fa64-b706-4caa-ab84-613bb9229da4",
   "metadata": {},
   "source": [
    "## Load the different datasets"
   ]
  },
  {
   "cell_type": "code",
   "execution_count": 2,
   "id": "a7b84a4a-1ab6-451c-b7c9-e7bb3b96e077",
   "metadata": {
    "tags": []
   },
   "outputs": [],
   "source": [
    "##load datasets from CMU dataset\n",
    "df_character = load_character().copy()\n",
    "df_movie = load_movie().copy()\n",
    "df_name_cluster = load_name_cluster().copy()\n",
    "df_summary = load_plot_summary().copy()\n",
    "df_tropes_cluster = load_tropes_cluster().copy()"
   ]
  },
  {
   "cell_type": "code",
   "execution_count": 3,
   "id": "9f46d88a-6ad5-4117-bb22-4560ee62b250",
   "metadata": {
    "tags": []
   },
   "outputs": [
    {
     "data": {
      "text/html": [
       "<div>\n",
       "<style scoped>\n",
       "    .dataframe tbody tr th:only-of-type {\n",
       "        vertical-align: middle;\n",
       "    }\n",
       "\n",
       "    .dataframe tbody tr th {\n",
       "        vertical-align: top;\n",
       "    }\n",
       "\n",
       "    .dataframe thead th {\n",
       "        text-align: right;\n",
       "    }\n",
       "</style>\n",
       "<table border=\"1\" class=\"dataframe\">\n",
       "  <thead>\n",
       "    <tr style=\"text-align: right;\">\n",
       "      <th></th>\n",
       "      <th>Wikipedia ID</th>\n",
       "      <th>Freebase ID</th>\n",
       "      <th>Name</th>\n",
       "      <th>Release date</th>\n",
       "      <th>Box office</th>\n",
       "      <th>Runtime</th>\n",
       "      <th>Languages (Freebase ID:name tuples)</th>\n",
       "      <th>Countries (Freebase ID:name tuples)</th>\n",
       "      <th>genres (Freebase ID:name tuples)</th>\n",
       "      <th>Year</th>\n",
       "      <th>Month</th>\n",
       "      <th>Day</th>\n",
       "    </tr>\n",
       "  </thead>\n",
       "  <tbody>\n",
       "    <tr>\n",
       "      <th>0</th>\n",
       "      <td>975900</td>\n",
       "      <td>/m/03vyhn</td>\n",
       "      <td>Ghosts of Mars</td>\n",
       "      <td>2001-08-24</td>\n",
       "      <td>14010832.0</td>\n",
       "      <td>98.0</td>\n",
       "      <td>{\"/m/02h40lc\": \"English Language\"}</td>\n",
       "      <td>{\"/m/09c7w0\": \"United States of America\"}</td>\n",
       "      <td>{\"/m/01jfsb\": \"Thriller\", \"/m/06n90\": \"Science...</td>\n",
       "      <td>2001</td>\n",
       "      <td>8</td>\n",
       "      <td>24</td>\n",
       "    </tr>\n",
       "    <tr>\n",
       "      <th>1</th>\n",
       "      <td>3196793</td>\n",
       "      <td>/m/08yl5d</td>\n",
       "      <td>Getting Away with Murder: The JonBenét Ramsey ...</td>\n",
       "      <td>2000-02-16</td>\n",
       "      <td>NaN</td>\n",
       "      <td>95.0</td>\n",
       "      <td>{\"/m/02h40lc\": \"English Language\"}</td>\n",
       "      <td>{\"/m/09c7w0\": \"United States of America\"}</td>\n",
       "      <td>{\"/m/02n4kr\": \"Mystery\", \"/m/03bxz7\": \"Biograp...</td>\n",
       "      <td>2000</td>\n",
       "      <td>2</td>\n",
       "      <td>16</td>\n",
       "    </tr>\n",
       "    <tr>\n",
       "      <th>2</th>\n",
       "      <td>28463795</td>\n",
       "      <td>/m/0crgdbh</td>\n",
       "      <td>Brun bitter</td>\n",
       "      <td>1988</td>\n",
       "      <td>NaN</td>\n",
       "      <td>83.0</td>\n",
       "      <td>{\"/m/05f_3\": \"Norwegian Language\"}</td>\n",
       "      <td>{\"/m/05b4w\": \"Norway\"}</td>\n",
       "      <td>{\"/m/0lsxr\": \"Crime Fiction\", \"/m/07s9rl0\": \"D...</td>\n",
       "      <td>1988</td>\n",
       "      <td>&lt;NA&gt;</td>\n",
       "      <td>&lt;NA&gt;</td>\n",
       "    </tr>\n",
       "    <tr>\n",
       "      <th>3</th>\n",
       "      <td>9363483</td>\n",
       "      <td>/m/0285_cd</td>\n",
       "      <td>White Of The Eye</td>\n",
       "      <td>1987</td>\n",
       "      <td>NaN</td>\n",
       "      <td>110.0</td>\n",
       "      <td>{\"/m/02h40lc\": \"English Language\"}</td>\n",
       "      <td>{\"/m/07ssc\": \"United Kingdom\"}</td>\n",
       "      <td>{\"/m/01jfsb\": \"Thriller\", \"/m/0glj9q\": \"Erotic...</td>\n",
       "      <td>1987</td>\n",
       "      <td>&lt;NA&gt;</td>\n",
       "      <td>&lt;NA&gt;</td>\n",
       "    </tr>\n",
       "    <tr>\n",
       "      <th>4</th>\n",
       "      <td>261236</td>\n",
       "      <td>/m/01mrr1</td>\n",
       "      <td>A Woman in Flames</td>\n",
       "      <td>1983</td>\n",
       "      <td>NaN</td>\n",
       "      <td>106.0</td>\n",
       "      <td>{\"/m/04306rv\": \"German Language\"}</td>\n",
       "      <td>{\"/m/0345h\": \"Germany\"}</td>\n",
       "      <td>{\"/m/07s9rl0\": \"Drama\"}</td>\n",
       "      <td>1983</td>\n",
       "      <td>&lt;NA&gt;</td>\n",
       "      <td>&lt;NA&gt;</td>\n",
       "    </tr>\n",
       "  </tbody>\n",
       "</table>\n",
       "</div>"
      ],
      "text/plain": [
       "   Wikipedia ID Freebase ID  \\\n",
       "0        975900   /m/03vyhn   \n",
       "1       3196793   /m/08yl5d   \n",
       "2      28463795  /m/0crgdbh   \n",
       "3       9363483  /m/0285_cd   \n",
       "4        261236   /m/01mrr1   \n",
       "\n",
       "                                                Name Release date  Box office  \\\n",
       "0                                     Ghosts of Mars   2001-08-24  14010832.0   \n",
       "1  Getting Away with Murder: The JonBenét Ramsey ...   2000-02-16         NaN   \n",
       "2                                        Brun bitter         1988         NaN   \n",
       "3                                   White Of The Eye         1987         NaN   \n",
       "4                                  A Woman in Flames         1983         NaN   \n",
       "\n",
       "   Runtime Languages (Freebase ID:name tuples)  \\\n",
       "0     98.0  {\"/m/02h40lc\": \"English Language\"}   \n",
       "1     95.0  {\"/m/02h40lc\": \"English Language\"}   \n",
       "2     83.0  {\"/m/05f_3\": \"Norwegian Language\"}   \n",
       "3    110.0  {\"/m/02h40lc\": \"English Language\"}   \n",
       "4    106.0   {\"/m/04306rv\": \"German Language\"}   \n",
       "\n",
       "         Countries (Freebase ID:name tuples)  \\\n",
       "0  {\"/m/09c7w0\": \"United States of America\"}   \n",
       "1  {\"/m/09c7w0\": \"United States of America\"}   \n",
       "2                     {\"/m/05b4w\": \"Norway\"}   \n",
       "3             {\"/m/07ssc\": \"United Kingdom\"}   \n",
       "4                    {\"/m/0345h\": \"Germany\"}   \n",
       "\n",
       "                    genres (Freebase ID:name tuples)  Year  Month   Day  \n",
       "0  {\"/m/01jfsb\": \"Thriller\", \"/m/06n90\": \"Science...  2001      8    24  \n",
       "1  {\"/m/02n4kr\": \"Mystery\", \"/m/03bxz7\": \"Biograp...  2000      2    16  \n",
       "2  {\"/m/0lsxr\": \"Crime Fiction\", \"/m/07s9rl0\": \"D...  1988   <NA>  <NA>  \n",
       "3  {\"/m/01jfsb\": \"Thriller\", \"/m/0glj9q\": \"Erotic...  1987   <NA>  <NA>  \n",
       "4                            {\"/m/07s9rl0\": \"Drama\"}  1983   <NA>  <NA>  "
      ]
     },
     "execution_count": 3,
     "metadata": {},
     "output_type": "execute_result"
    }
   ],
   "source": [
    "df_movie.head()"
   ]
  },
  {
   "cell_type": "code",
   "execution_count": 4,
   "id": "f47434ae",
   "metadata": {
    "tags": []
   },
   "outputs": [
    {
     "data": {
      "text/plain": [
       "(81741, 12)"
      ]
     },
     "execution_count": 4,
     "metadata": {},
     "output_type": "execute_result"
    }
   ],
   "source": [
    "df_movie.shape"
   ]
  },
  {
   "cell_type": "code",
   "execution_count": 5,
   "id": "90a8149d",
   "metadata": {
    "tags": []
   },
   "outputs": [
    {
     "data": {
      "text/html": [
       "<div>\n",
       "<style scoped>\n",
       "    .dataframe tbody tr th:only-of-type {\n",
       "        vertical-align: middle;\n",
       "    }\n",
       "\n",
       "    .dataframe tbody tr th {\n",
       "        vertical-align: top;\n",
       "    }\n",
       "\n",
       "    .dataframe thead th {\n",
       "        text-align: right;\n",
       "    }\n",
       "</style>\n",
       "<table border=\"1\" class=\"dataframe\">\n",
       "  <thead>\n",
       "    <tr style=\"text-align: right;\">\n",
       "      <th></th>\n",
       "      <th>tconst</th>\n",
       "      <th>Freebase ID</th>\n",
       "    </tr>\n",
       "  </thead>\n",
       "  <tbody>\n",
       "    <tr>\n",
       "      <th>0</th>\n",
       "      <td>nm0010930</td>\n",
       "      <td>/m/0282x</td>\n",
       "    </tr>\n",
       "    <tr>\n",
       "      <th>1</th>\n",
       "      <td>nm0124133</td>\n",
       "      <td>/m/09b6zr</td>\n",
       "    </tr>\n",
       "    <tr>\n",
       "      <th>2</th>\n",
       "      <td>nm0684496</td>\n",
       "      <td>/m/014d3</td>\n",
       "    </tr>\n",
       "    <tr>\n",
       "      <th>3</th>\n",
       "      <td>nm0061667</td>\n",
       "      <td>/m/01rgr</td>\n",
       "    </tr>\n",
       "    <tr>\n",
       "      <th>4</th>\n",
       "      <td>tt1675434</td>\n",
       "      <td>/m/0hgqwpj</td>\n",
       "    </tr>\n",
       "    <tr>\n",
       "      <th>...</th>\n",
       "      <td>...</td>\n",
       "      <td>...</td>\n",
       "    </tr>\n",
       "    <tr>\n",
       "      <th>990440</th>\n",
       "      <td>tt20913312</td>\n",
       "      <td>None</td>\n",
       "    </tr>\n",
       "    <tr>\n",
       "      <th>990441</th>\n",
       "      <td>tt29623578</td>\n",
       "      <td>None</td>\n",
       "    </tr>\n",
       "    <tr>\n",
       "      <th>990442</th>\n",
       "      <td>nm1456284</td>\n",
       "      <td>None</td>\n",
       "    </tr>\n",
       "    <tr>\n",
       "      <th>990443</th>\n",
       "      <td>tt27348595</td>\n",
       "      <td>None</td>\n",
       "    </tr>\n",
       "    <tr>\n",
       "      <th>990444</th>\n",
       "      <td>nm0578746</td>\n",
       "      <td>None</td>\n",
       "    </tr>\n",
       "  </tbody>\n",
       "</table>\n",
       "<p>990445 rows × 2 columns</p>\n",
       "</div>"
      ],
      "text/plain": [
       "            tconst Freebase ID\n",
       "0        nm0010930    /m/0282x\n",
       "1        nm0124133   /m/09b6zr\n",
       "2        nm0684496    /m/014d3\n",
       "3        nm0061667    /m/01rgr\n",
       "4        tt1675434  /m/0hgqwpj\n",
       "...            ...         ...\n",
       "990440  tt20913312        None\n",
       "990441  tt29623578        None\n",
       "990442   nm1456284        None\n",
       "990443  tt27348595        None\n",
       "990444   nm0578746        None\n",
       "\n",
       "[990445 rows x 2 columns]"
      ]
     },
     "metadata": {},
     "output_type": "display_data"
    }
   ],
   "source": [
    "# Replace 'id-translation.wikidata.json' with the path to your JSON file\n",
    "file_path = 'id-translation.wikidata.json'\n",
    "\n",
    "# Load the JSON file into a DataFrame\n",
    "df_id_translation = pd.read_json(file_path, orient='records', lines=True)\n",
    "\n",
    "# Display the loaded DataFrame\n",
    "display(df_id_translation)"
   ]
  },
  {
   "cell_type": "code",
   "execution_count": 6,
   "id": "e7ebbe81",
   "metadata": {
    "tags": []
   },
   "outputs": [
    {
     "name": "stdout",
     "output_type": "stream",
     "text": [
      "(397518, 2)\n"
     ]
    }
   ],
   "source": [
    "df_id_translation = df_id_translation.dropna(subset=['Freebase ID'])\n",
    "#df_id_translation.drop_duplicates(subset=['Freebase ID'], keep='first', inplace=True)\n",
    "print(df_id_translation.shape)"
   ]
  },
  {
   "cell_type": "code",
   "execution_count": 7,
   "id": "864da76a",
   "metadata": {
    "tags": []
   },
   "outputs": [
    {
     "name": "stdout",
     "output_type": "stream",
     "text": [
      "(396337, 2)\n"
     ]
    }
   ],
   "source": [
    "df_id_translation.drop_duplicates(subset=['Freebase ID'], keep='first', inplace=True)\n",
    "print(df_id_translation.shape)"
   ]
  },
  {
   "cell_type": "code",
   "execution_count": 8,
   "id": "7f8f8233",
   "metadata": {
    "tags": []
   },
   "outputs": [
    {
     "data": {
      "text/html": [
       "<div>\n",
       "<style scoped>\n",
       "    .dataframe tbody tr th:only-of-type {\n",
       "        vertical-align: middle;\n",
       "    }\n",
       "\n",
       "    .dataframe tbody tr th {\n",
       "        vertical-align: top;\n",
       "    }\n",
       "\n",
       "    .dataframe thead th {\n",
       "        text-align: right;\n",
       "    }\n",
       "</style>\n",
       "<table border=\"1\" class=\"dataframe\">\n",
       "  <thead>\n",
       "    <tr style=\"text-align: right;\">\n",
       "      <th></th>\n",
       "      <th>Wikipedia ID</th>\n",
       "      <th>Freebase ID</th>\n",
       "      <th>Name</th>\n",
       "      <th>Release date</th>\n",
       "      <th>Box office</th>\n",
       "      <th>Runtime</th>\n",
       "      <th>Languages (Freebase ID:name tuples)</th>\n",
       "      <th>Countries (Freebase ID:name tuples)</th>\n",
       "      <th>genres (Freebase ID:name tuples)</th>\n",
       "      <th>Year</th>\n",
       "      <th>Month</th>\n",
       "      <th>Day</th>\n",
       "      <th>tconst</th>\n",
       "    </tr>\n",
       "  </thead>\n",
       "  <tbody>\n",
       "    <tr>\n",
       "      <th>0</th>\n",
       "      <td>975900</td>\n",
       "      <td>/m/03vyhn</td>\n",
       "      <td>Ghosts of Mars</td>\n",
       "      <td>2001-08-24</td>\n",
       "      <td>14010832.0</td>\n",
       "      <td>98.0</td>\n",
       "      <td>{\"/m/02h40lc\": \"English Language\"}</td>\n",
       "      <td>{\"/m/09c7w0\": \"United States of America\"}</td>\n",
       "      <td>{\"/m/01jfsb\": \"Thriller\", \"/m/06n90\": \"Science...</td>\n",
       "      <td>2001</td>\n",
       "      <td>8</td>\n",
       "      <td>24</td>\n",
       "      <td>tt0228333</td>\n",
       "    </tr>\n",
       "    <tr>\n",
       "      <th>1</th>\n",
       "      <td>3196793</td>\n",
       "      <td>/m/08yl5d</td>\n",
       "      <td>Getting Away with Murder: The JonBenét Ramsey ...</td>\n",
       "      <td>2000-02-16</td>\n",
       "      <td>NaN</td>\n",
       "      <td>95.0</td>\n",
       "      <td>{\"/m/02h40lc\": \"English Language\"}</td>\n",
       "      <td>{\"/m/09c7w0\": \"United States of America\"}</td>\n",
       "      <td>{\"/m/02n4kr\": \"Mystery\", \"/m/03bxz7\": \"Biograp...</td>\n",
       "      <td>2000</td>\n",
       "      <td>2</td>\n",
       "      <td>16</td>\n",
       "      <td>tt0245916</td>\n",
       "    </tr>\n",
       "    <tr>\n",
       "      <th>2</th>\n",
       "      <td>28463795</td>\n",
       "      <td>/m/0crgdbh</td>\n",
       "      <td>Brun bitter</td>\n",
       "      <td>1988</td>\n",
       "      <td>NaN</td>\n",
       "      <td>83.0</td>\n",
       "      <td>{\"/m/05f_3\": \"Norwegian Language\"}</td>\n",
       "      <td>{\"/m/05b4w\": \"Norway\"}</td>\n",
       "      <td>{\"/m/0lsxr\": \"Crime Fiction\", \"/m/07s9rl0\": \"D...</td>\n",
       "      <td>1988</td>\n",
       "      <td>&lt;NA&gt;</td>\n",
       "      <td>&lt;NA&gt;</td>\n",
       "      <td>tt0094806</td>\n",
       "    </tr>\n",
       "    <tr>\n",
       "      <th>3</th>\n",
       "      <td>9363483</td>\n",
       "      <td>/m/0285_cd</td>\n",
       "      <td>White Of The Eye</td>\n",
       "      <td>1987</td>\n",
       "      <td>NaN</td>\n",
       "      <td>110.0</td>\n",
       "      <td>{\"/m/02h40lc\": \"English Language\"}</td>\n",
       "      <td>{\"/m/07ssc\": \"United Kingdom\"}</td>\n",
       "      <td>{\"/m/01jfsb\": \"Thriller\", \"/m/0glj9q\": \"Erotic...</td>\n",
       "      <td>1987</td>\n",
       "      <td>&lt;NA&gt;</td>\n",
       "      <td>&lt;NA&gt;</td>\n",
       "      <td>tt0094320</td>\n",
       "    </tr>\n",
       "    <tr>\n",
       "      <th>4</th>\n",
       "      <td>261236</td>\n",
       "      <td>/m/01mrr1</td>\n",
       "      <td>A Woman in Flames</td>\n",
       "      <td>1983</td>\n",
       "      <td>NaN</td>\n",
       "      <td>106.0</td>\n",
       "      <td>{\"/m/04306rv\": \"German Language\"}</td>\n",
       "      <td>{\"/m/0345h\": \"Germany\"}</td>\n",
       "      <td>{\"/m/07s9rl0\": \"Drama\"}</td>\n",
       "      <td>1983</td>\n",
       "      <td>&lt;NA&gt;</td>\n",
       "      <td>&lt;NA&gt;</td>\n",
       "      <td>tt0083949</td>\n",
       "    </tr>\n",
       "    <tr>\n",
       "      <th>...</th>\n",
       "      <td>...</td>\n",
       "      <td>...</td>\n",
       "      <td>...</td>\n",
       "      <td>...</td>\n",
       "      <td>...</td>\n",
       "      <td>...</td>\n",
       "      <td>...</td>\n",
       "      <td>...</td>\n",
       "      <td>...</td>\n",
       "      <td>...</td>\n",
       "      <td>...</td>\n",
       "      <td>...</td>\n",
       "      <td>...</td>\n",
       "    </tr>\n",
       "    <tr>\n",
       "      <th>81736</th>\n",
       "      <td>35228177</td>\n",
       "      <td>/m/0j7hxnt</td>\n",
       "      <td>Mermaids: The Body Found</td>\n",
       "      <td>2011-03-19</td>\n",
       "      <td>NaN</td>\n",
       "      <td>120.0</td>\n",
       "      <td>{\"/m/02h40lc\": \"English Language\"}</td>\n",
       "      <td>{\"/m/09c7w0\": \"United States of America\"}</td>\n",
       "      <td>{\"/m/07s9rl0\": \"Drama\"}</td>\n",
       "      <td>2011</td>\n",
       "      <td>3</td>\n",
       "      <td>19</td>\n",
       "      <td>tt1816585</td>\n",
       "    </tr>\n",
       "    <tr>\n",
       "      <th>81737</th>\n",
       "      <td>34980460</td>\n",
       "      <td>/m/0g4pl34</td>\n",
       "      <td>Knuckle</td>\n",
       "      <td>2011-01-21</td>\n",
       "      <td>NaN</td>\n",
       "      <td>96.0</td>\n",
       "      <td>{\"/m/02h40lc\": \"English Language\"}</td>\n",
       "      <td>{\"/m/03rt9\": \"Ireland\", \"/m/07ssc\": \"United Ki...</td>\n",
       "      <td>{\"/m/03bxz7\": \"Biographical film\", \"/m/07s9rl0...</td>\n",
       "      <td>2011</td>\n",
       "      <td>1</td>\n",
       "      <td>21</td>\n",
       "      <td>tt1606259</td>\n",
       "    </tr>\n",
       "    <tr>\n",
       "      <th>81738</th>\n",
       "      <td>9971909</td>\n",
       "      <td>/m/02pygw1</td>\n",
       "      <td>Another Nice Mess</td>\n",
       "      <td>1972-09-22</td>\n",
       "      <td>NaN</td>\n",
       "      <td>66.0</td>\n",
       "      <td>{\"/m/02h40lc\": \"English Language\"}</td>\n",
       "      <td>{\"/m/09c7w0\": \"United States of America\"}</td>\n",
       "      <td>{\"/m/06nbt\": \"Satire\", \"/m/01z4y\": \"Comedy\"}</td>\n",
       "      <td>1972</td>\n",
       "      <td>9</td>\n",
       "      <td>22</td>\n",
       "      <td>tt0362411</td>\n",
       "    </tr>\n",
       "    <tr>\n",
       "      <th>81739</th>\n",
       "      <td>913762</td>\n",
       "      <td>/m/03pcrp</td>\n",
       "      <td>The Super Dimension Fortress Macross II: Lover...</td>\n",
       "      <td>1992-05-21</td>\n",
       "      <td>NaN</td>\n",
       "      <td>150.0</td>\n",
       "      <td>{\"/m/03_9r\": \"Japanese Language\"}</td>\n",
       "      <td>{\"/m/03_3d\": \"Japan\"}</td>\n",
       "      <td>{\"/m/06n90\": \"Science Fiction\", \"/m/0gw5n2f\": ...</td>\n",
       "      <td>1992</td>\n",
       "      <td>5</td>\n",
       "      <td>21</td>\n",
       "      <td>tt0113726</td>\n",
       "    </tr>\n",
       "    <tr>\n",
       "      <th>81740</th>\n",
       "      <td>12476867</td>\n",
       "      <td>/m/02w7zz8</td>\n",
       "      <td>Spliced</td>\n",
       "      <td>2002</td>\n",
       "      <td>NaN</td>\n",
       "      <td>86.0</td>\n",
       "      <td>{\"/m/02h40lc\": \"English Language\"}</td>\n",
       "      <td>{\"/m/0d060g\": \"Canada\"}</td>\n",
       "      <td>{\"/m/01jfsb\": \"Thriller\", \"/m/03npn\": \"Horror\"...</td>\n",
       "      <td>2002</td>\n",
       "      <td>&lt;NA&gt;</td>\n",
       "      <td>&lt;NA&gt;</td>\n",
       "      <td>tt0354216</td>\n",
       "    </tr>\n",
       "  </tbody>\n",
       "</table>\n",
       "<p>81741 rows × 13 columns</p>\n",
       "</div>"
      ],
      "text/plain": [
       "       Wikipedia ID Freebase ID  \\\n",
       "0            975900   /m/03vyhn   \n",
       "1           3196793   /m/08yl5d   \n",
       "2          28463795  /m/0crgdbh   \n",
       "3           9363483  /m/0285_cd   \n",
       "4            261236   /m/01mrr1   \n",
       "...             ...         ...   \n",
       "81736      35228177  /m/0j7hxnt   \n",
       "81737      34980460  /m/0g4pl34   \n",
       "81738       9971909  /m/02pygw1   \n",
       "81739        913762   /m/03pcrp   \n",
       "81740      12476867  /m/02w7zz8   \n",
       "\n",
       "                                                    Name Release date  \\\n",
       "0                                         Ghosts of Mars   2001-08-24   \n",
       "1      Getting Away with Murder: The JonBenét Ramsey ...   2000-02-16   \n",
       "2                                            Brun bitter         1988   \n",
       "3                                       White Of The Eye         1987   \n",
       "4                                      A Woman in Flames         1983   \n",
       "...                                                  ...          ...   \n",
       "81736                           Mermaids: The Body Found   2011-03-19   \n",
       "81737                                            Knuckle   2011-01-21   \n",
       "81738                                  Another Nice Mess   1972-09-22   \n",
       "81739  The Super Dimension Fortress Macross II: Lover...   1992-05-21   \n",
       "81740                                            Spliced         2002   \n",
       "\n",
       "       Box office  Runtime Languages (Freebase ID:name tuples)  \\\n",
       "0      14010832.0     98.0  {\"/m/02h40lc\": \"English Language\"}   \n",
       "1             NaN     95.0  {\"/m/02h40lc\": \"English Language\"}   \n",
       "2             NaN     83.0  {\"/m/05f_3\": \"Norwegian Language\"}   \n",
       "3             NaN    110.0  {\"/m/02h40lc\": \"English Language\"}   \n",
       "4             NaN    106.0   {\"/m/04306rv\": \"German Language\"}   \n",
       "...           ...      ...                                 ...   \n",
       "81736         NaN    120.0  {\"/m/02h40lc\": \"English Language\"}   \n",
       "81737         NaN     96.0  {\"/m/02h40lc\": \"English Language\"}   \n",
       "81738         NaN     66.0  {\"/m/02h40lc\": \"English Language\"}   \n",
       "81739         NaN    150.0   {\"/m/03_9r\": \"Japanese Language\"}   \n",
       "81740         NaN     86.0  {\"/m/02h40lc\": \"English Language\"}   \n",
       "\n",
       "                     Countries (Freebase ID:name tuples)  \\\n",
       "0              {\"/m/09c7w0\": \"United States of America\"}   \n",
       "1              {\"/m/09c7w0\": \"United States of America\"}   \n",
       "2                                 {\"/m/05b4w\": \"Norway\"}   \n",
       "3                         {\"/m/07ssc\": \"United Kingdom\"}   \n",
       "4                                {\"/m/0345h\": \"Germany\"}   \n",
       "...                                                  ...   \n",
       "81736          {\"/m/09c7w0\": \"United States of America\"}   \n",
       "81737  {\"/m/03rt9\": \"Ireland\", \"/m/07ssc\": \"United Ki...   \n",
       "81738          {\"/m/09c7w0\": \"United States of America\"}   \n",
       "81739                              {\"/m/03_3d\": \"Japan\"}   \n",
       "81740                            {\"/m/0d060g\": \"Canada\"}   \n",
       "\n",
       "                        genres (Freebase ID:name tuples)  Year  Month   Day  \\\n",
       "0      {\"/m/01jfsb\": \"Thriller\", \"/m/06n90\": \"Science...  2001      8    24   \n",
       "1      {\"/m/02n4kr\": \"Mystery\", \"/m/03bxz7\": \"Biograp...  2000      2    16   \n",
       "2      {\"/m/0lsxr\": \"Crime Fiction\", \"/m/07s9rl0\": \"D...  1988   <NA>  <NA>   \n",
       "3      {\"/m/01jfsb\": \"Thriller\", \"/m/0glj9q\": \"Erotic...  1987   <NA>  <NA>   \n",
       "4                                {\"/m/07s9rl0\": \"Drama\"}  1983   <NA>  <NA>   \n",
       "...                                                  ...   ...    ...   ...   \n",
       "81736                            {\"/m/07s9rl0\": \"Drama\"}  2011      3    19   \n",
       "81737  {\"/m/03bxz7\": \"Biographical film\", \"/m/07s9rl0...  2011      1    21   \n",
       "81738       {\"/m/06nbt\": \"Satire\", \"/m/01z4y\": \"Comedy\"}  1972      9    22   \n",
       "81739  {\"/m/06n90\": \"Science Fiction\", \"/m/0gw5n2f\": ...  1992      5    21   \n",
       "81740  {\"/m/01jfsb\": \"Thriller\", \"/m/03npn\": \"Horror\"...  2002   <NA>  <NA>   \n",
       "\n",
       "          tconst  \n",
       "0      tt0228333  \n",
       "1      tt0245916  \n",
       "2      tt0094806  \n",
       "3      tt0094320  \n",
       "4      tt0083949  \n",
       "...          ...  \n",
       "81736  tt1816585  \n",
       "81737  tt1606259  \n",
       "81738  tt0362411  \n",
       "81739  tt0113726  \n",
       "81740  tt0354216  \n",
       "\n",
       "[81741 rows x 13 columns]"
      ]
     },
     "metadata": {},
     "output_type": "display_data"
    }
   ],
   "source": [
    "df_movie = pd.merge(df_movie, df_id_translation, on='Freebase ID', how='left')\n",
    "display(df_movie)"
   ]
  },
  {
   "cell_type": "code",
   "execution_count": 9,
   "id": "8180483b-7664-459f-84dd-5d080744699d",
   "metadata": {
    "tags": []
   },
   "outputs": [
    {
     "name": "stdout",
     "output_type": "stream",
     "text": [
      "The percentage of missing values 'Year' release date is 8.444%.\n",
      "The percentage of missing values 'Month' release date (and therefore 'Day') is 51.832%.\n",
      "The percentage of missing values 'Box office' is 89.722%.\n",
      "The percentage of missing values 'Runtime' is 25.018%.\n",
      "The percentage of missing values 'tconst' is 9.769%.\n"
     ]
    }
   ],
   "source": [
    "#compute percentage of missing values for df_mvoei\n",
    "percentage_missing_values_year = (df_movie['Year'].isna().sum()/len(df_movie['Year']))*100\n",
    "print(f\"The percentage of missing values 'Year' release date is {format(percentage_missing_values_year, '.3f')}%.\")\n",
    "\n",
    "percentage_missing_values_month = (df_movie['Month'].isna().sum()/len(df_movie['Month']))*100\n",
    "print(f\"The percentage of missing values 'Month' release date (and therefore 'Day') is {format(percentage_missing_values_month, '.3f')}%.\")\n",
    "\n",
    "percentage_missing_values_revenues = (df_movie['Box office'].isna().sum()/len(df_movie['Box office']))*100\n",
    "print(f\"The percentage of missing values 'Box office' is {format(percentage_missing_values_revenues, '.3f')}%.\")\n",
    "\n",
    "percentage_missing_values_runtime = (df_movie['Runtime'].isna().sum()/len(df_movie['Runtime']))*100\n",
    "print(f\"The percentage of missing values 'Runtime' is {format(percentage_missing_values_runtime, '.3f')}%.\")\n",
    "\n",
    "percentage_missing_values_tconst = (df_movie['tconst'].isna().sum()/len(df_movie['tconst']))*100\n",
    "print(f\"The percentage of missing values 'tconst' is {format(percentage_missing_values_tconst, '.3f')}%.\")\n"
   ]
  },
  {
   "cell_type": "code",
   "execution_count": 10,
   "id": "43e55591-795e-49e9-8fec-c1adc843272d",
   "metadata": {},
   "outputs": [],
   "source": [
    "##As we can see, a lot of 'Box office' and 'Month' data is missing"
   ]
  },
  {
   "cell_type": "markdown",
   "id": "b09e1b1d-f9af-43d7-a545-bf50100b2fcf",
   "metadata": {},
   "source": [
    "## Finding trend by genre"
   ]
  },
  {
   "cell_type": "markdown",
   "id": "a944446a-e58a-40cb-8121-39c94de12c28",
   "metadata": {
    "tags": []
   },
   "source": [
    "First of all, let's look at the data from the initial dataset"
   ]
  },
  {
   "cell_type": "code",
   "execution_count": 11,
   "id": "273cb33f-d7b0-4331-b66d-582d48155359",
   "metadata": {
    "tags": []
   },
   "outputs": [
    {
     "name": "stdout",
     "output_type": "stream",
     "text": [
      "Number of null values in genre: 0\n",
      "Number of {} genres: 2294\n",
      "The percentage of of missing genre movie: 2.806%.\n"
     ]
    },
    {
     "data": {
      "text/plain": [
       "<bound method NDFrame.head of 0        {\"/m/01jfsb\": \"Thriller\", \"/m/06n90\": \"Science...\n",
       "1        {\"/m/02n4kr\": \"Mystery\", \"/m/03bxz7\": \"Biograp...\n",
       "2        {\"/m/0lsxr\": \"Crime Fiction\", \"/m/07s9rl0\": \"D...\n",
       "3        {\"/m/01jfsb\": \"Thriller\", \"/m/0glj9q\": \"Erotic...\n",
       "4                                  {\"/m/07s9rl0\": \"Drama\"}\n",
       "                               ...                        \n",
       "81736                              {\"/m/07s9rl0\": \"Drama\"}\n",
       "81737    {\"/m/03bxz7\": \"Biographical film\", \"/m/07s9rl0...\n",
       "81738         {\"/m/06nbt\": \"Satire\", \"/m/01z4y\": \"Comedy\"}\n",
       "81739    {\"/m/06n90\": \"Science Fiction\", \"/m/0gw5n2f\": ...\n",
       "81740    {\"/m/01jfsb\": \"Thriller\", \"/m/03npn\": \"Horror\"...\n",
       "Name: genres (Freebase ID:name tuples), Length: 81741, dtype: object>"
      ]
     },
     "execution_count": 11,
     "metadata": {},
     "output_type": "execute_result"
    }
   ],
   "source": [
    "print(f\"Number of null values in genre: {df_movie['genres (Freebase ID:name tuples)'].isna().sum()}\")\n",
    "\n",
    "df_empty_genre_movie = df_movie[df_movie['genres (Freebase ID:name tuples)'] == '{}']\n",
    "print(f\"Number of \"+repr({})+f\" genres: {df_empty_genre_movie['genres (Freebase ID:name tuples)'].size}\")\n",
    "\n",
    "precentage_missing_genre = (df_empty_genre_movie['genres (Freebase ID:name tuples)'].size/df_movie['genres (Freebase ID:name tuples)'].size)*100\n",
    "print(f\"The percentage of of missing genre movie: {format(precentage_missing_genre, '.3f')}%.\")\n",
    "      \n",
    "df_movie['genres (Freebase ID:name tuples)'].head"
   ]
  },
  {
   "cell_type": "markdown",
   "id": "cb08f8e8-873b-417f-b592-f521f3d7b1a5",
   "metadata": {},
   "source": [
    "Here, we can see that the genre data is stocked as a JSON, there is no null value but some empty JSON that we will need to remove. Regardless, for now, of the other missing value in other columns, only a small percentage has an empty genre. \n",
    "Thus, we should be able to have enough data to analyse, but we need to transform the JSON to something usable.\n",
    "\n",
    "We will first transform the JSON to a list and, as we analyse the release date of these movie, we need to remove the null value of the relase date too."
   ]
  },
  {
   "cell_type": "code",
   "execution_count": 12,
   "id": "ee9a67bf-6082-4c3a-9f7d-0948d07fce82",
   "metadata": {
    "tags": []
   },
   "outputs": [
    {
     "data": {
      "text/plain": [
       "0        [Thriller, Science Fiction, Horror, Adventure,...\n",
       "1         [Mystery, Biographical film, Drama, Crime Drama]\n",
       "5        [Short Film, Silent film, Indie, Black-and-whi...\n",
       "7                       [Musical, Comedy, Black-and-white]\n",
       "12       [Romantic comedy, Ensemble Film, Comedy-drama,...\n",
       "                               ...                        \n",
       "81735               [Sports, Crime Fiction, Action, Drama]\n",
       "81736                                              [Drama]\n",
       "81737              [Biographical film, Drama, Documentary]\n",
       "81738                                     [Satire, Comedy]\n",
       "81739    [Science Fiction, Japanese Movies, Adventure, ...\n",
       "Name: genres, Length: 38832, dtype: object"
      ]
     },
     "metadata": {},
     "output_type": "display_data"
    },
    {
     "name": "stdout",
     "output_type": "stream",
     "text": [
      "38832\n"
     ]
    }
   ],
   "source": [
    "def parse_genre_json(genre_json):\n",
    "    try:\n",
    "        genre_dict = json.loads(genre_json)\n",
    "        genre_list = list(genre_dict.values())\n",
    "        return genre_list\n",
    "    except (json.JSONDecodeError, AttributeError):\n",
    "        return []\n",
    "\n",
    "df_genre_movie = df_movie[df_movie['genres (Freebase ID:name tuples)'] != '{}'].copy(deep=True)\n",
    "df_genre_movie['genres'] = df_genre_movie['genres (Freebase ID:name tuples)'].apply(parse_genre_json)\n",
    "df_genre_movie.drop(columns=['genres (Freebase ID:name tuples)'], inplace=True)\n",
    "df_genre_movie.dropna(subset=['Day','Month', 'Year'],inplace=True)\n",
    "\n",
    "display(df_genre_movie['genres'])\n",
    "print(df_genre_movie['genres'].size)"
   ]
  },
  {
   "cell_type": "markdown",
   "id": "dbd796cd-49b7-482d-a110-0ca7447ecb64",
   "metadata": {},
   "source": [
    "Now we have something to work on. Let's group the movie by their genre."
   ]
  },
  {
   "cell_type": "code",
   "execution_count": 13,
   "id": "1e3dc32b-f42a-4926-8c9e-9cacf1d63fba",
   "metadata": {
    "tags": []
   },
   "outputs": [
    {
     "name": "stdout",
     "output_type": "stream",
     "text": [
      "Number of genres: 348\n"
     ]
    },
    {
     "data": {
      "text/html": [
       "<div>\n",
       "<style scoped>\n",
       "    .dataframe tbody tr th:only-of-type {\n",
       "        vertical-align: middle;\n",
       "    }\n",
       "\n",
       "    .dataframe tbody tr th {\n",
       "        vertical-align: top;\n",
       "    }\n",
       "\n",
       "    .dataframe thead th {\n",
       "        text-align: right;\n",
       "    }\n",
       "</style>\n",
       "<table border=\"1\" class=\"dataframe\">\n",
       "  <thead>\n",
       "    <tr style=\"text-align: right;\">\n",
       "      <th></th>\n",
       "      <th>genres</th>\n",
       "      <th>movie_count</th>\n",
       "    </tr>\n",
       "  </thead>\n",
       "  <tbody>\n",
       "    <tr>\n",
       "      <th>111</th>\n",
       "      <td>Drama</td>\n",
       "      <td>17592</td>\n",
       "    </tr>\n",
       "    <tr>\n",
       "      <th>72</th>\n",
       "      <td>Comedy</td>\n",
       "      <td>9456</td>\n",
       "    </tr>\n",
       "    <tr>\n",
       "      <th>278</th>\n",
       "      <td>Romance Film</td>\n",
       "      <td>5849</td>\n",
       "    </tr>\n",
       "    <tr>\n",
       "      <th>42</th>\n",
       "      <td>Black-and-white</td>\n",
       "      <td>5635</td>\n",
       "    </tr>\n",
       "    <tr>\n",
       "      <th>329</th>\n",
       "      <td>Thriller</td>\n",
       "      <td>4984</td>\n",
       "    </tr>\n",
       "    <tr>\n",
       "      <th>2</th>\n",
       "      <td>Action</td>\n",
       "      <td>4808</td>\n",
       "    </tr>\n",
       "    <tr>\n",
       "      <th>294</th>\n",
       "      <td>Short Film</td>\n",
       "      <td>4188</td>\n",
       "    </tr>\n",
       "    <tr>\n",
       "      <th>191</th>\n",
       "      <td>Indie</td>\n",
       "      <td>4057</td>\n",
       "    </tr>\n",
       "    <tr>\n",
       "      <th>95</th>\n",
       "      <td>Crime Fiction</td>\n",
       "      <td>3826</td>\n",
       "    </tr>\n",
       "    <tr>\n",
       "      <th>295</th>\n",
       "      <td>Silent film</td>\n",
       "      <td>3578</td>\n",
       "    </tr>\n",
       "  </tbody>\n",
       "</table>\n",
       "</div>"
      ],
      "text/plain": [
       "              genres  movie_count\n",
       "111            Drama        17592\n",
       "72            Comedy         9456\n",
       "278     Romance Film         5849\n",
       "42   Black-and-white         5635\n",
       "329         Thriller         4984\n",
       "2             Action         4808\n",
       "294       Short Film         4188\n",
       "191            Indie         4057\n",
       "95     Crime Fiction         3826\n",
       "295      Silent film         3578"
      ]
     },
     "execution_count": 13,
     "metadata": {},
     "output_type": "execute_result"
    }
   ],
   "source": [
    "df_full_genres = df_genre_movie.explode('genres')\n",
    "df_group_genres= df_full_genres.groupby('genres')\n",
    "genre_counts = df_group_genres.size().reset_index(name='movie_count')\n",
    "print(\"Number of genres: \" + str(genre_counts['genres'].size))\n",
    "genre_counts.sort_values(by= 'movie_count', ascending= False).head(10)"
   ]
  },
  {
   "cell_type": "code",
   "execution_count": 14,
   "id": "bb49e2ce-7d4b-410d-b55a-0eead4ddc91b",
   "metadata": {
    "tags": []
   },
   "outputs": [
    {
     "name": "stdout",
     "output_type": "stream",
     "text": [
      "Number of genre with less than 10 movie: 98\n"
     ]
    }
   ],
   "source": [
    "genre_counts_less_ten = genre_counts[genre_counts['movie_count']<10]\n",
    "print(\"Number of genre with less than 10 movie: \"+ str(genre_counts_less_ten['genres'].size))"
   ]
  },
  {
   "cell_type": "code",
   "execution_count": 15,
   "id": "272c2958-4a79-4334-90c3-bbef01e583b8",
   "metadata": {
    "tags": []
   },
   "outputs": [
    {
     "data": {
      "image/png": "[encoded data removed]",
      "text/plain": [
       "<Figure size 640x480 with 1 Axes>"
      ]
     },
     "metadata": {},
     "output_type": "display_data"
    }
   ],
   "source": [
    "# We should check: the genre by month, and by year maybe ?\n",
    "genre = 'Action'\n",
    "genre_movie = df_group_genres.get_group(genre)\n",
    "\n",
    "plt.hist(genre_movie['Month'], bins=30, edgecolor='k')\n",
    "plt.title('Release Date Distribution for '+genre +' Film Genre')\n",
    "plt.xlabel('Release Date')\n",
    "plt.ylabel('Number of '+genre +' Movies')\n",
    "plt.xticks(rotation=45)\n",
    "plt.show()"
   ]
  },
  {
   "cell_type": "markdown",
   "id": "5c7142ee-0548-4d37-b39d-90a2e2a65216",
   "metadata": {},
   "source": [
    "### Use of the functions of Robin for the month"
   ]
  },
  {
   "cell_type": "code",
   "execution_count": 16,
   "id": "9e48bd9a-8a87-4919-bd00-b8acc0bf0ecb",
   "metadata": {
    "tags": []
   },
   "outputs": [],
   "source": [
    "import scipy\n",
    "import seaborn as sbn\n",
    "import matplotlib.pyplot as plt\n",
    "import json\n",
    "from matplotlib.colors import LogNorm, Normalize\n",
    "from sklearn.preprocessing import normalize"
   ]
  },
  {
   "cell_type": "code",
   "execution_count": 28,
   "id": "854d47bc-23c4-49e6-9482-aab915b18d37",
   "metadata": {
    "tags": []
   },
   "outputs": [],
   "source": [
    "def show_release_count_per_month_for_DF(df):\n",
    "    df_movie_month = df.copy(deep=True)\n",
    "\n",
    "    df_movie_month.dropna(subset=['Month'],inplace=True)\n",
    "    month_count = df_movie_month.groupby(\"Month\").count()\n",
    "\n",
    "\n",
    "    release_month_count = month_count['Name'].values\n",
    "    months = np.fromiter(df.groupby(\"Month\").groups.keys(), 'int')\n",
    "\n",
    "    sbn.set(rc={'figure.figsize':(10,4)})\n",
    "    sbn.barplot(x=months, y=release_month_count)\n",
    "    plt.title('Number of movie premieres for each month')\n",
    "    plt.xlabel('Month of the year')\n",
    "    plt.ylabel('Number of movies')\n",
    "    plt.show()\n",
    "\n",
    "    \n",
    "def show_var_month_for_DF(df, var):\n",
    "    df_movie_month_rating = df.copy(deep=True)\n",
    "\n",
    "    df_movie_month_rating.dropna(subset=['Month', var],inplace=True)\n",
    "    month_rating = df_movie_month_rating.groupby(\"Month\").mean()\n",
    "    \n",
    "    release_month_rating = month_rating[var].values\n",
    "    months = df_movie_month_rating[\"Month\"].unique()\n",
    "    \n",
    "    if len(months) != len(release_month_rating):\n",
    "        print('No rating data for every month')\n",
    "        return\n",
    "    \n",
    "    # Graph\n",
    "    \n",
    "    sbn.set(rc={'figure.figsize':(10,4)})\n",
    "    order = np.linspace(1,31,31).astype(int)\n",
    "    sbn.barplot(x=months, y=release_month_rating, order = order)\n",
    "    plt.title(f'{var} for movies released on each month')\n",
    "    plt.xlabel('Month')\n",
    "    plt.ylabel(f'Average {var}')\n",
    "    plt.show()"
   ]
  },
  {
   "cell_type": "code",
   "execution_count": 29,
   "id": "6a517dae-6bf5-4c90-bc36-0450da8dc6a1",
   "metadata": {
    "tags": []
   },
   "outputs": [
    {
     "data": {
      "image/png": "[encoded data removed]",
      "text/plain": [
       "<Figure size 1000x400 with 1 Axes>"
      ]
     },
     "metadata": {},
     "output_type": "display_data"
    }
   ],
   "source": [
    "genre = 'Romance Film'\n",
    "genre_movie = df_group_genres.get_group(genre)\n",
    "\n",
    "show_release_count_per_month_for_DF(genre_movie)"
   ]
  },
  {
   "cell_type": "code",
   "execution_count": 66,
   "id": "94a3f49a-56fe-4ed2-a0cf-19f54f77bd0e",
   "metadata": {
    "tags": []
   },
   "outputs": [
    {
     "data": {
      "image/png": "[encoded data removed]",
      "text/plain": [
       "<Figure size 1500x1000 with 2 Axes>"
      ]
     },
     "metadata": {},
     "output_type": "display_data"
    }
   ],
   "source": [
    "# Get the top 10 genres based on the count.\n",
    "top_genres = df_full_genres['genres'].value_counts().nlargest(20).index\n",
    "\n",
    "# Filter the DataFrame to include only the top 10 genres.\n",
    "df_top_genres = df_full_genres[df_full_genres['genres'].isin(top_genres)]\n",
    "\n",
    "df_genre_month = pd.crosstab(df_top_genres['genres'],df_top_genres['Month'])\n",
    "\n",
    "#Normalize the data to not have a red color for the genre with the most movies\n",
    "normalized_df = pd.DataFrame(normalize(df_genre_month, axis=1, norm='l1'), index=df_genre_month.index, columns=df_genre_month.columns)\n",
    "plt.subplots(figsize=(15, 10))\n",
    "sbn.heatmap(normalized_df, annot=False, cmap=sbn.diverging_palette(200, 0, as_cmap=True), norm=LogNorm())\n",
    "plt.title('Movie release month by genre')\n",
    "plt.show()"
   ]
  },
  {
   "cell_type": "markdown",
   "id": "0ddcc74b-b446-44d5-bc1d-81624522b89c",
   "metadata": {
    "tags": []
   },
   "source": [
    "### Use of the functions of Robin for the years"
   ]
  },
  {
   "cell_type": "code",
   "execution_count": 54,
   "id": "b6342bc9-7d7a-420c-bdc1-91e9c9941f7e",
   "metadata": {
    "tags": []
   },
   "outputs": [],
   "source": [
    "def show_release_count_per_year_for_DF(df,genre):\n",
    "    df = df.get_group(genre)\n",
    "    df_movie_year = df.copy(deep=True)\n",
    "\n",
    "    df_movie_year.dropna(subset=['Year'],inplace=True)\n",
    "    year_count = df_movie_year.groupby(\"Year\").count()\n",
    "\n",
    "\n",
    "    release_year_count = year_count['Name'].values\n",
    "    years = np.fromiter(df.groupby(\"Year\").groups.keys(), 'int')\n",
    "\n",
    "    sbn.set(rc={'figure.figsize':(10,4)})\n",
    "    ax = sbn.barplot(x=years, y=release_year_count)\n",
    "    plt.title('Number of movie premieres for each year')\n",
    "    plt.xlabel('Year')\n",
    "    plt.ylabel('Number of movies')\n",
    "    \n",
    "    \n",
    "    plt.xticks(rotation=45, ha='right')\n",
    "    # Keep only the labels for every five year \n",
    "    labels = [item.get_text() for item in ax.get_xticklabels()]\n",
    "    ax.set_xticklabels([label if int(label) % 5 == 0 else '' for label in labels])\n",
    "    plt.show()\n",
    "\n",
    "    \n",
    "def show_var_year_for_DF(df, var):\n",
    "    df_movie_year_rating = df.copy(deep=True)\n",
    "\n",
    "    df_movie_year_rating.dropna(subset=[\"Year\", var],inplace=True)\n",
    "    year_rating = df_movie_year_rating.groupby(\"Year\").mean()\n",
    "    \n",
    "    release_year_rating = year_rating[var].values\n",
    "    years = df_movie_year_rating[\"Year\"].unique()\n",
    "    \n",
    "    if len(years) != len(release_year_rating):\n",
    "        print('No rating data for every year')\n",
    "        return\n",
    "    \n",
    "    # Graph\n",
    "    \n",
    "    sbn.set(rc={'figure.figsize':(10,4)})\n",
    "    order = np.linspace(1,31,31).astype(int)\n",
    "    ax = sbn.barplot(x=years, y=release_year_rating, order = order)\n",
    "    plt.title(f'{var} for movies released on each year')\n",
    "    plt.xlabel('Year')\n",
    "    plt.ylabel(f'Average {var}')\n",
    "    \n",
    "    plt.xticks(rotation=45, ha='right')\n",
    "    # Keep only the labels for every five year \n",
    "    labels = [item.get_text() for item in ax.get_xticklabels()]\n",
    "    ax.set_xticklabels([label if int(label) % 5 == 0 else '' for label in labels])\n",
    "    \n",
    "    \n",
    "    plt.show()"
   ]
  },
  {
   "cell_type": "code",
   "execution_count": 52,
   "id": "86a98db2-9055-46db-94c7-50195b618ffe",
   "metadata": {
    "tags": []
   },
   "outputs": [
    {
     "data": {
      "image/png": "[encoded data removed]",
      "text/plain": [
       "<Figure size 1000x400 with 1 Axes>"
      ]
     },
     "metadata": {},
     "output_type": "display_data"
    }
   ],
   "source": [
    "genre = 'Romance Film'\n",
    "genre_movie = df_group_genres.get_group(genre)\n",
    "\n",
    "show_release_count_per_year_for_DF(df_group_genres, genre)"
   ]
  },
  {
   "cell_type": "markdown",
   "id": "39481b14-2fa7-47d6-801a-d82cb5b74d0e",
   "metadata": {},
   "source": [
    "We need to normalize the data (as we can easily suppose that there were more film nowadays than before"
   ]
  },
  {
   "cell_type": "code",
   "execution_count": 63,
   "id": "43933dd1-af7c-4fc1-9494-8d91d8195f77",
   "metadata": {
    "tags": []
   },
   "outputs": [],
   "source": [
    "def show_release_count_per_year_for_DF_normalized(df, genre):\n",
    "    df_genre = df.groupby('genres').get_group(genre).copy()\n",
    "\n",
    "    # Drop rows with missing values in the 'Year' column\n",
    "    df_genre.dropna(subset=['Year'], inplace=True)\n",
    "\n",
    "    # Count the number of movies released per year\n",
    "    year_count = df_genre.groupby(\"Year\").count()['Name']\n",
    "\n",
    "    # Calculate the total number of movies released per year\n",
    "    total_movies_per_year = df.groupby(\"Year\").count()['Name']\n",
    "\n",
    "    # Calculate the percentage of movies for each year\n",
    "    percentage_movies_per_year = (year_count / total_movies_per_year) * 100\n",
    "\n",
    "    # Plot the normalized bar chart\n",
    "    sbn.set(rc={'figure.figsize': (10, 4)})\n",
    "    ax = sbn.barplot(x=percentage_movies_per_year.index, y=percentage_movies_per_year.values)\n",
    "    plt.title(f'Percentage of Movie Premieres for {genre} Genre Each Year')\n",
    "    plt.xlabel('Year')\n",
    "    plt.ylabel('Percentage of Movies (%)')\n",
    "    \n",
    "    plt.xticks(rotation=45, ha='right')\n",
    "    # Keep only the labels for every five year \n",
    "    labels = [item.get_text() for item in ax.get_xticklabels()]\n",
    "    ax.set_xticklabels([label if int(label) % 5 == 0 else '' for label in labels])\n",
    "    \n",
    "    \n",
    "    plt.show()"
   ]
  },
  {
   "cell_type": "code",
   "execution_count": 64,
   "id": "a21265bb-c9e3-439a-946f-36f4b3653584",
   "metadata": {
    "tags": []
   },
   "outputs": [
    {
     "data": {
      "image/png": "[encoded data removed]",
      "text/plain": [
       "<Figure size 1000x400 with 1 Axes>"
      ]
     },
     "metadata": {},
     "output_type": "display_data"
    }
   ],
   "source": [
    "genre = 'Drama'\n",
    "genre_movie = df_group_genres.get_group(genre)\n",
    "\n",
    "show_release_count_per_year_for_DF_normalized(df_full_genres, genre)"
   ]
  },
  {
   "cell_type": "code",
   "execution_count": null,
   "id": "5b7371f6-7cf8-4fd5-bf81-21f9d420bf01",
   "metadata": {},
   "outputs": [],
   "source": []
  }
 ],
 "metadata": {
  "kernelspec": {
   "display_name": "Python 3 (ipykernel)",
   "language": "python",
   "name": "python3"
  },
  "language_info": {
   "codemirror_mode": {
    "name": "ipython",
    "version": 3
   },
   "file_extension": ".py",
   "mimetype": "text/x-python",
   "name": "python",
   "nbconvert_exporter": "python",
   "pygments_lexer": "ipython3",
   "version": "3.11.5"
  }
 },
 "nbformat": 4,
 "nbformat_minor": 5
}
